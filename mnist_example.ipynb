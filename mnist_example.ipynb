{
 "cells": [
  {
   "cell_type": "markdown",
   "id": "98c51ca2-8918-4ac5-942d-2f4d00e13c34",
   "metadata": {},
   "source": [
    "# Libraries"
   ]
  },
  {
   "cell_type": "code",
   "execution_count": null,
   "id": "465f9abc-2160-4558-bbae-a8a4473c58ac",
   "metadata": {},
   "outputs": [],
   "source": [
    "# @author: innat\n",
    "import os, warnings \n",
    "os.environ['TF_CPP_MIN_LOG_LEVEL'] = '3'\n",
    "warnings.filterwarnings(\"ignore\")\n",
    "\n",
    "import tensorflow as tf\n",
    "physical_devices = tf.config.list_physical_devices('GPU')\n",
    "try: \n",
    "    tf.config.experimental.set_memory_growth(physical_devices[0], True)\n",
    "    tf.config.optimizer.set_jit(True)\n",
    "except: \n",
    "    pass \n",
    "\n",
    "from tensorflow.keras import applications\n",
    "from tensorflow import keras"
   ]
  },
  {
   "cell_type": "markdown",
   "id": "49479ad8-5ad6-42be-8e1a-26f6f6b7d7c1",
   "metadata": {},
   "source": [
    "# Build Backbone for DOLG\n",
    "\n",
    "Create backbone model with multi-ouput, one for local branch and other for global branch processing. "
   ]
  },
  {
   "cell_type": "code",
   "execution_count": 3,
   "id": "35846b06-6f7a-4c0d-8114-a4d8948c9e5b",
   "metadata": {},
   "outputs": [],
   "source": [
    "img_size   = 128\n",
    "num_classe = 10\n",
    "\n",
    "base = applications.EfficientNetB0(\n",
    "        include_top=False,\n",
    "        weights=None,\n",
    "        input_tensor=keras.Input((img_size, img_size, 3))\n",
    "    )\n",
    "new_base = keras.Model(\n",
    "    [base.inputs], \n",
    "    [\n",
    "        base.get_layer('block5c_add').output,       # fol local branch \n",
    "        base.get_layer('block7a_project_bn').output # for global branch \n",
    "    ], \n",
    "    name='base_model'\n",
    ")"
   ]
  },
  {
   "cell_type": "markdown",
   "id": "be60b900-3bbc-47c0-994d-afd8283d685e",
   "metadata": {},
   "source": [
    "# Create DOLGNet \n",
    "\n",
    "We use previously build backbone to build the DOLGNet."
   ]
  },
  {
   "cell_type": "code",
   "execution_count": 8,
   "id": "0445984a-d57e-467f-90bc-fc7c15ccd0ff",
   "metadata": {},
   "outputs": [
    {
     "name": "stdout",
     "output_type": "stream",
     "text": [
      "Model: \"model_1\"\n",
      "__________________________________________________________________________________________________\n",
      " Layer (type)                   Output Shape         Param #     Connected to                     \n",
      "==================================================================================================\n",
      " input_3 (InputLayer)           [(None, 128, 128, 3  0           []                               \n",
      "                                )]                                                                \n",
      "                                                                                                  \n",
      " base_model (Functional)        [(None, 8, 8, 112),  3634851     ['input_3[0][0]']                \n",
      "                                 (None, 4, 4, 320)]                                               \n",
      "                                                                                                  \n",
      " LocalBranch (DOLGLocalBranch)  (None, 4, 4, 1024)   4582656     ['base_model[1][0]']             \n",
      "                                                                                                  \n",
      " GlobalBranchPooling (Sequentia  (None, 1024)        329024      ['base_model[1][1]']             \n",
      " l)                                                                                               \n",
      "                                                                                                  \n",
      " OrthogonalFusion (OrthogonalFu  (None, 4, 4, 2048)  0           ['LocalBranch[0][0]',            \n",
      " sion)                                                            'GlobalBranchPooling[0][0]']    \n",
      "                                                                                                  \n",
      " Classifiers (Sequential)       (None, 10)           20490       ['OrthogonalFusion[0][0]']       \n",
      "                                                                                                  \n",
      "==================================================================================================\n",
      "Total params: 8,567,021\n",
      "Trainable params: 8,525,510\n",
      "Non-trainable params: 41,511\n",
      "__________________________________________________________________________________________________\n"
     ]
    }
   ],
   "source": [
    "from models.DOLG import DOLGNet\n",
    "\n",
    "dolg_net = DOLGNet(new_base, num_classes=num_classe, activation='softmax')\n",
    "dolg_net.build_graph().summary()"
   ]
  },
  {
   "cell_type": "markdown",
   "id": "79c9c1e8-d220-4d60-9a05-a2678ee68a74",
   "metadata": {},
   "source": [
    "# Dummy Train with MNIST"
   ]
  },
  {
   "cell_type": "code",
   "execution_count": 7,
   "id": "00201bee-f2d6-48fd-9a46-955243b46883",
   "metadata": {},
   "outputs": [
    {
     "name": "stdout",
     "output_type": "stream",
     "text": [
      "3750/3750 [==============================] - 442s 108ms/step - loss: 0.2759 - accuracy: 0.9169\n"
     ]
    },
    {
     "data": {
      "text/plain": [
       "<keras.callbacks.History at 0x1a3ef874220>"
      ]
     },
     "execution_count": 7,
     "metadata": {},
     "output_type": "execute_result"
    }
   ],
   "source": [
    "# prepare data \n",
    "def mnist_process(x, y):\n",
    "    x = tf.expand_dims(tf.cast(x, dtype=tf.float32), axis=-1)  \n",
    "    x = tf.repeat(x, repeats=3, axis=-1)\n",
    "    x = tf.divide(x, 255)       \n",
    "    x = tf.image.resize(x, [img_size, img_size])  \n",
    "    y = tf.one_hot(y , depth=num_classe)  \n",
    "    return x, y\n",
    "\n",
    "(x_train, y_train), (_, _) = keras.datasets.mnist.load_data()\n",
    "train_ds = tf.data.Dataset.from_tensor_slices((x_train, y_train)).map(mnist_process)\n",
    "train_ds = train_ds.shuffle(buffer_size=100).batch(16)\n",
    "\n",
    "# execute model \n",
    "dolg_net.compile(\n",
    "    optimizer='adam',\n",
    "    loss=keras.losses.CategoricalCrossentropy(),\n",
    "    metrics=['accuracy'])\n",
    "\n",
    "dolg_net.fit(train_ds, epochs=1)"
   ]
  },
  {
   "cell_type": "markdown",
   "id": "36a618fa-24b0-478e-947b-0a180d255964",
   "metadata": {},
   "source": [
    "# Custom Model with DOLGNet's Layers"
   ]
  },
  {
   "cell_type": "code",
   "execution_count": 19,
   "id": "c6baf04a-3555-4410-8494-eb144e812ca1",
   "metadata": {},
   "outputs": [],
   "source": [
    "# general \n",
    "from layers.GeM import GeneralizedMeanPooling2D\n",
    "\n",
    "# special for dolgnet \n",
    "from layers.LocalBranch import DOLGLocalBranch\n",
    "from layers.OrtholFusion import OrthogonalFusion"
   ]
  },
  {
   "cell_type": "code",
   "execution_count": 27,
   "id": "aba9dcf6-7c17-418b-bc4b-fa466bcf038a",
   "metadata": {},
   "outputs": [
    {
     "name": "stdout",
     "output_type": "stream",
     "text": [
      "Model: \"vision\"\n",
      "______________________________________________________________________________________________________________\n",
      " Layer (type)                       Output Shape            Param #      Connected to                         \n",
      "==============================================================================================================\n",
      " img (InputLayer)                   [(None, 512, 512, 1)]   0            []                                   \n",
      "                                                                                                              \n",
      " conv2d_165 (Conv2D)                (None, 510, 510, 16)    160          ['img[0][0]']                        \n",
      "                                                                                                              \n",
      " conv2d_166 (Conv2D)                (None, 508, 508, 32)    4640         ['conv2d_165[0][0]']                 \n",
      "                                                                                                              \n",
      " LocalBranch (DOLGLocalBranch)      (None, 16, 16, 1024)    4029696      ['conv2d_166[0][0]']                 \n",
      "|¯¯¯¯¯¯¯¯¯¯¯¯¯¯¯¯¯¯¯¯¯¯¯¯¯¯¯¯¯¯¯¯¯¯¯¯¯¯¯¯¯¯¯¯¯¯¯¯¯¯¯¯¯¯¯¯¯¯¯¯¯¯¯¯¯¯¯¯¯¯¯¯¯¯¯¯¯¯¯¯¯¯¯¯¯¯¯¯¯¯¯¯¯¯¯¯¯¯¯¯¯¯¯¯¯¯¯¯|\n",
      "| MultiAtrous (MultiAtrous)        multiple                353536       []                                   |\n",
      "||¯¯¯¯¯¯¯¯¯¯¯¯¯¯¯¯¯¯¯¯¯¯¯¯¯¯¯¯¯¯¯¯¯¯¯¯¯¯¯¯¯¯¯¯¯¯¯¯¯¯¯¯¯¯¯¯¯¯¯¯¯¯¯¯¯¯¯¯¯¯¯¯¯¯¯¯¯¯¯¯¯¯¯¯¯¯¯¯¯¯¯¯¯¯¯¯¯¯¯¯¯¯¯¯¯¯||\n",
      "|| conv2d_167 (Conv2D)            multiple                73984        []                                   ||\n",
      "||                                                                                                          ||\n",
      "|| conv2d_168 (Conv2D)            multiple                73984        []                                   ||\n",
      "||                                                                                                          ||\n",
      "|| conv2d_169 (Conv2D)            multiple                73984        []                                   ||\n",
      "||                                                                                                          ||\n",
      "|| gap_branch (Sequential)        (None, 16, 16, 512)     131584       []                                   ||\n",
      "|||¯¯¯¯¯¯¯¯¯¯¯¯¯¯¯¯¯¯¯¯¯¯¯¯¯¯¯¯¯¯¯¯¯¯¯¯¯¯¯¯¯¯¯¯¯¯¯¯¯¯¯¯¯¯¯¯¯¯¯¯¯¯¯¯¯¯¯¯¯¯¯¯¯¯¯¯¯¯¯¯¯¯¯¯¯¯¯¯¯¯¯¯¯¯¯¯¯¯¯¯¯¯¯¯|||\n",
      "||| global_average_pooling2d_16 (Globa  (None, 1, 1, 256)  0          []                                   |||\n",
      "||| lAveragePooling2D)                                                                                     |||\n",
      "|||                                                                                                        |||\n",
      "||| conv2d_170 (Conv2D)          (None, 1, 1, 512)       131584       []                                   |||\n",
      "|||                                                                                                        |||\n",
      "||| activation_16 (Activation)   (None, 1, 1, 512)       0            []                                   |||\n",
      "|||                                                                                                        |||\n",
      "||| up_sampling2d_16 (UpSampling2D)  (None, 16, 16, 512)  0           []                                   |||\n",
      "||¯¯¯¯¯¯¯¯¯¯¯¯¯¯¯¯¯¯¯¯¯¯¯¯¯¯¯¯¯¯¯¯¯¯¯¯¯¯¯¯¯¯¯¯¯¯¯¯¯¯¯¯¯¯¯¯¯¯¯¯¯¯¯¯¯¯¯¯¯¯¯¯¯¯¯¯¯¯¯¯¯¯¯¯¯¯¯¯¯¯¯¯¯¯¯¯¯¯¯¯¯¯¯¯¯¯||\n",
      "|¯¯¯¯¯¯¯¯¯¯¯¯¯¯¯¯¯¯¯¯¯¯¯¯¯¯¯¯¯¯¯¯¯¯¯¯¯¯¯¯¯¯¯¯¯¯¯¯¯¯¯¯¯¯¯¯¯¯¯¯¯¯¯¯¯¯¯¯¯¯¯¯¯¯¯¯¯¯¯¯¯¯¯¯¯¯¯¯¯¯¯¯¯¯¯¯¯¯¯¯¯¯¯¯¯¯¯¯|\n",
      "| conv2d_171 (Conv2D)              multiple                1573888      []                                   |\n",
      "|                                                                                                            |\n",
      "| conv2d_172 (Conv2D)              multiple                1048576      []                                   |\n",
      "|                                                                                                            |\n",
      "| conv2d_173 (Conv2D)              multiple                1049600      []                                   |\n",
      "|                                                                                                            |\n",
      "| batch_normalization_16 (BatchNorma  multiple             4096         []                                   |\n",
      "| lization)                                                                                                  |\n",
      "¯¯¯¯¯¯¯¯¯¯¯¯¯¯¯¯¯¯¯¯¯¯¯¯¯¯¯¯¯¯¯¯¯¯¯¯¯¯¯¯¯¯¯¯¯¯¯¯¯¯¯¯¯¯¯¯¯¯¯¯¯¯¯¯¯¯¯¯¯¯¯¯¯¯¯¯¯¯¯¯¯¯¯¯¯¯¯¯¯¯¯¯¯¯¯¯¯¯¯¯¯¯¯¯¯¯¯¯¯¯\n",
      " max_pooling2d_13 (MaxPooling2D)    (None, 5, 5, 1024)      0            ['LocalBranch[0][0]']                \n",
      "                                                                                                              \n",
      " conv2d_174 (Conv2D)                (None, 3, 3, 32)        294944       ['max_pooling2d_13[0][0]']           \n",
      "                                                                                                              \n",
      " conv2d_175 (Conv2D)                (None, 1, 1, 16)        4624         ['conv2d_174[0][0]']                 \n",
      "                                                                                                              \n",
      " generalized_mean_pooling2d_15 (Gen  (None, 16)             16           ['conv2d_175[0][0]']                 \n",
      " eralizedMeanPooling2D)                                                                                       \n",
      "                                                                                                              \n",
      " dense_14 (Dense)                   (None, 1024)            17408        ['generalized_mean_pooling2d_15[0][0]\n",
      "                                                                         ']                                   \n",
      "                                                                                                              \n",
      " OrthogonalFusion (OrthogonalFusion  (None, 16, 16, 2048)   0            ['LocalBranch[0][0]',                \n",
      " )                                                                        'dense_14[0][0]']                   \n",
      "                                                                                                              \n",
      "==============================================================================================================\n",
      "Total params: 4,351,488\n",
      "Trainable params: 4,349,440\n",
      "Non-trainable params: 2,048\n",
      "______________________________________________________________________________________________________________\n"
     ]
    }
   ],
   "source": [
    "img_shape = 512\n",
    "\n",
    "vision_input = keras.Input(shape=(img_shape, img_shape, 1), name=\"img\")\n",
    "x = keras.layers.Conv2D(16, 3, activation=\"relu\")(vision_input)\n",
    "x = keras.layers.Conv2D(32, 3, activation=\"relu\")(x)\n",
    "y = x = DOLGLocalBranch(IMG_SIZE=img_shape)(x)\n",
    "\n",
    "x = keras.layers.MaxPooling2D(3)(x)\n",
    "x = keras.layers.Conv2D(32, 3, activation=\"relu\")(x)\n",
    "x = keras.layers.Conv2D(16, 3, activation=\"relu\")(x)\n",
    "gem_pool = GeneralizedMeanPooling2D()(x)\n",
    "gem_dens = keras.layers.Dense(1024, activation=None)(gem_pool)\n",
    "\n",
    "vision_output = OrthogonalFusion()([y, gem_dens])\n",
    "vision = keras.Model(vision_input, vision_output, name=\"vision\")\n",
    "vision.summary(expand_nested=True, line_length=110)"
   ]
  },
  {
   "cell_type": "code",
   "execution_count": null,
   "id": "a18c31d8-7600-4dce-8f1a-f418c0982afe",
   "metadata": {},
   "outputs": [],
   "source": []
  },
  {
   "cell_type": "code",
   "execution_count": null,
   "id": "ef7cedfd-7020-4788-abaf-20709efd1c91",
   "metadata": {},
   "outputs": [],
   "source": []
  }
 ],
 "metadata": {
  "kernelspec": {
   "display_name": "Python 3 (ipykernel)",
   "language": "python",
   "name": "python3"
  },
  "language_info": {
   "codemirror_mode": {
    "name": "ipython",
    "version": 3
   },
   "file_extension": ".py",
   "mimetype": "text/x-python",
   "name": "python",
   "nbconvert_exporter": "python",
   "pygments_lexer": "ipython3",
   "version": "3.9.7"
  }
 },
 "nbformat": 4,
 "nbformat_minor": 5
}
